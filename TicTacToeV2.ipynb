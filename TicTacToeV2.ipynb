{
 "cells": [
  {
   "cell_type": "code",
   "execution_count": 43,
   "id": "27ebd07f-bbdd-495c-aeef-570728f84625",
   "metadata": {},
   "outputs": [],
   "source": [
    "#Step 1\n",
    "#Print out board, set board as a list\n",
    "#Index 1-9 corresponds with a number on a number pad (3x3 board representation)\n",
    "\n",
    "from IPython.display import clear_output\n",
    "\n",
    "def display_board(board):\n",
    "    clear_output()\n",
    "    print(board[7]+'|'+board[8]+'|'+board[9])\n",
    "    print(board[4]+'|'+board[5]+'|'+board[6])\n",
    "    print(board[1]+'|'+board[2]+'|'+board[3])\n"
   ]
  },
  {
   "cell_type": "code",
   "execution_count": 3,
   "id": "df2fe80a-1054-4638-822a-b36ed56a38a3",
   "metadata": {},
   "outputs": [
    {
     "name": "stdout",
     "output_type": "stream",
     "text": [
      "7|8|9\n",
      "4|5|6\n",
      "1|2|3\n"
     ]
    }
   ],
   "source": [
    "#Test\n",
    "test_board = ['#','1','2','3','4','5','6','7','8','9']\n",
    "display_board(test_board)"
   ]
  },
  {
   "cell_type": "code",
   "execution_count": 5,
   "id": "b7687df3-7145-4609-96ee-c626f43a67c4",
   "metadata": {},
   "outputs": [],
   "source": [
    "#Step 2\n",
    "#Take player input and assign X or O\n",
    "#Continuously ask until you get the correct answer\n",
    "\n",
    "def player_input():\n",
    "    marker = ''\n",
    "    while not(marker == 'X' or marker == 'O'):\n",
    "        marker = input(\"Player 1. Please choose X or O to start: \").upper()\n",
    "    if marker == 'X':\n",
    "        return ('X','O')\n",
    "    else:\n",
    "        return ('O','X')"
   ]
  },
  {
   "cell_type": "code",
   "execution_count": 7,
   "id": "44f59f5d-ae34-441d-bbd6-08a0d9ee74d6",
   "metadata": {},
   "outputs": [
    {
     "name": "stdin",
     "output_type": "stream",
     "text": [
      "Player 1. Please choose X or O to start:  X\n"
     ]
    },
    {
     "name": "stdout",
     "output_type": "stream",
     "text": [
      "Player 1 chose X\n",
      "Player 2 gets O\n"
     ]
    }
   ],
   "source": [
    "#Test\n",
    "player1,player2 = player_input()\n",
    "print(f\"Player 1 chose {player1}\")\n",
    "print(f'Player 2 gets {player2}')"
   ]
  },
  {
   "cell_type": "code",
   "execution_count": 9,
   "id": "9600da85-0b2d-4afd-a23a-1191fa50fe52",
   "metadata": {},
   "outputs": [],
   "source": [
    "#Step 3\n",
    "#Takes in board as a list object\n",
    "#Takes in marker (X or O)\n",
    "#Takes in desired position (1-9) and assigns to board\n",
    "\n",
    "def place_marker(board,marker,position):\n",
    "    board[position] = marker"
   ]
  },
  {
   "cell_type": "code",
   "execution_count": 11,
   "id": "4a4f5e01-2d99-4f3e-842f-6ed85362e2a2",
   "metadata": {},
   "outputs": [
    {
     "name": "stdout",
     "output_type": "stream",
     "text": [
      "7|8|X\n",
      "4|5|6\n",
      "1|2|3\n"
     ]
    }
   ],
   "source": [
    "#Test\n",
    "place_marker(test_board,'X',9)\n",
    "display_board(test_board)"
   ]
  },
  {
   "cell_type": "code",
   "execution_count": 13,
   "id": "0b3297c6-1857-418a-a5e6-0f0370107a39",
   "metadata": {},
   "outputs": [],
   "source": [
    "#Step 4\n",
    "#Takes in a board and a mark (X or O) and checks to see if that mark has won\n",
    "def win_check(board,mark):\n",
    "    return ((board[7] == board[8] == board[9] == mark) or \n",
    "        (board[4] == board[6] == board[9] == mark) or\n",
    "        (board[1] == board[2] == board[3] == mark) or\n",
    "        (board[1] == board[4] == board[7] == mark) or\n",
    "        (board[2] == board[5] == board[8] == mark) or\n",
    "        (board[3] == board[6] == board[9] == mark) or\n",
    "        (board[1] == board[5] == board[9] == mark) or\n",
    "        (board[3] == board[5] == board[7] == mark))\n"
   ]
  },
  {
   "cell_type": "code",
   "execution_count": 15,
   "id": "358c3bb9-3e4f-4d2b-91d9-dfde5fd22a97",
   "metadata": {},
   "outputs": [
    {
     "name": "stdout",
     "output_type": "stream",
     "text": [
      "7|8|X\n",
      "4|5|6\n",
      "1|2|3\n"
     ]
    },
    {
     "data": {
      "text/plain": [
       "False"
      ]
     },
     "execution_count": 15,
     "metadata": {},
     "output_type": "execute_result"
    }
   ],
   "source": [
    "#Test\n",
    "display_board(test_board)\n",
    "win_check(test_board,'X')"
   ]
  },
  {
   "cell_type": "code",
   "execution_count": 17,
   "id": "bf94a334-ae6f-428a-9d2f-322a9eeb228a",
   "metadata": {},
   "outputs": [],
   "source": [
    "#Step 5\n",
    "#Random module to decide who goes first\n",
    "import random\n",
    "def choose_first():\n",
    "    choose = random.randint(1,2)\n",
    "    if choose == 1:\n",
    "        return 'Player 1'\n",
    "    else:\n",
    "        return 'Player 2'\n"
   ]
  },
  {
   "cell_type": "code",
   "execution_count": 19,
   "id": "e25eb331-07f3-4392-8b24-dcc5e4f3e609",
   "metadata": {},
   "outputs": [
    {
     "data": {
      "text/plain": [
       "'Player 1'"
      ]
     },
     "execution_count": 19,
     "metadata": {},
     "output_type": "execute_result"
    }
   ],
   "source": [
    "#Test\n",
    "choose_first()"
   ]
  },
  {
   "cell_type": "code",
   "execution_count": 21,
   "id": "075ec460-9658-4b02-96b0-3ab1a89faa49",
   "metadata": {},
   "outputs": [],
   "source": [
    "#Step 6\n",
    "#Returns boolean whether a space on the board is freely available\n",
    "def space_check(board,position):\n",
    "    return board[position] != 'X' and board[position] != 'O'\n",
    "    "
   ]
  },
  {
   "cell_type": "code",
   "execution_count": 23,
   "id": "049a2ac0-f775-4b6e-8d97-748642f590c8",
   "metadata": {},
   "outputs": [
    {
     "data": {
      "text/plain": [
       "True"
      ]
     },
     "execution_count": 23,
     "metadata": {},
     "output_type": "execute_result"
    }
   ],
   "source": [
    "#Test\n",
    "space_check(test_board, 3)"
   ]
  },
  {
   "cell_type": "code",
   "execution_count": 25,
   "id": "322456c5-1b31-4076-8886-ad8458af1287",
   "metadata": {},
   "outputs": [],
   "source": [
    "#Step 7\n",
    "#Checks if the board is full and returns True\n",
    "def full_board_check(board):\n",
    "    #full board means all spots are X or O\n",
    "    for i in range(1,10):\n",
    "        if space_check(board,i):\n",
    "            return False\n",
    "    #if it runs through the whole for loop, then it returns True\n",
    "    return True"
   ]
  },
  {
   "cell_type": "code",
   "execution_count": 27,
   "id": "a89f005c-fe98-4f44-be8d-ba1d62bd1db5",
   "metadata": {},
   "outputs": [
    {
     "data": {
      "text/plain": [
       "False"
      ]
     },
     "execution_count": 27,
     "metadata": {},
     "output_type": "execute_result"
    }
   ],
   "source": [
    "#Test\n",
    "full_board_check(test_board)"
   ]
  },
  {
   "cell_type": "code",
   "execution_count": 29,
   "id": "84c5a51f-14d5-4871-b13c-7c31d81b5c9a",
   "metadata": {},
   "outputs": [],
   "source": [
    "#Step 8\n",
    "#ask for player's next position (1-9)\n",
    "#use step 6 function to check if it's free\n",
    "#if free, return position for later use\n",
    "def player_choice(board):\n",
    "    position = 0\n",
    "    while position not in range(1,10) or not space_check(board,position):\n",
    "        position = int(input('Please select a position (1-9): '))\n",
    "    return position\n",
    "#if board is full and nobody has won, it must be a tie"
   ]
  },
  {
   "cell_type": "code",
   "execution_count": 31,
   "id": "361f789b-659f-422f-a2a6-a313592fe1e2",
   "metadata": {},
   "outputs": [
    {
     "name": "stdin",
     "output_type": "stream",
     "text": [
      "Please select a position (1-9):  1\n"
     ]
    },
    {
     "data": {
      "text/plain": [
       "1"
      ]
     },
     "execution_count": 31,
     "metadata": {},
     "output_type": "execute_result"
    }
   ],
   "source": [
    "#Test\n",
    "player_choice(test_board)"
   ]
  },
  {
   "cell_type": "code",
   "execution_count": 33,
   "id": "b810ffe2-65a2-4236-8456-86b2e340abcb",
   "metadata": {},
   "outputs": [],
   "source": [
    "#Step 9\n",
    "#Ask if they want to play again. Return true for play again\n",
    "def replay():\n",
    "    choice = input(\"Play again? Enter Yes or No\")\n",
    "\n",
    "    return choice == 'Yes'"
   ]
  },
  {
   "cell_type": "code",
   "execution_count": 35,
   "id": "4669a494-b101-4f6a-9f67-adfe3addc487",
   "metadata": {},
   "outputs": [
    {
     "name": "stdin",
     "output_type": "stream",
     "text": [
      "Play again? Enter Yes or No No\n"
     ]
    },
    {
     "data": {
      "text/plain": [
       "False"
      ]
     },
     "execution_count": 35,
     "metadata": {},
     "output_type": "execute_result"
    }
   ],
   "source": [
    "#Test\n",
    "replay()"
   ]
  },
  {
   "cell_type": "code",
   "execution_count": 59,
   "id": "ca51d9c4-68e5-43c5-9857-e30cd6b2434e",
   "metadata": {},
   "outputs": [
    {
     "name": "stdout",
     "output_type": "stream",
     "text": [
      "X| | \n",
      "O|X|O\n",
      "X|O|X\n",
      "Player 2 has won!\n"
     ]
    },
    {
     "name": "stdin",
     "output_type": "stream",
     "text": [
      "Play again? Enter Yes or No No\n"
     ]
    }
   ],
   "source": [
    "#WHILE LOOP TO RUN THE GAME\n",
    "print('Welcome to Tic Tac Toe')\n",
    "print('These are the positions on the board when asked to select a position')\n",
    "print('         7|8|9')\n",
    "print('         4|5|6')\n",
    "print('         1|2|3')\n",
    "#Ensure there is a way to break out of the True While Loop\n",
    "while True:\n",
    "\n",
    "    #PLAY THE GAME\n",
    "\n",
    "    #SET EVERYTHING UP (BOARD, WHO IS FIRST, CHOOSE MARKERS <X,O>)\n",
    "    the_board = [' ']*10\n",
    "    ##ask player 1 to choose X or O\n",
    "    player1,player2 = player_input()\n",
    "\n",
    "    ##outputs who will go first\n",
    "    turn = choose_first()\n",
    "    print(turn + ' will go first')\n",
    "\n",
    "    ##ask the players if they are ready to play\n",
    "    play_game = input('Ready to play? y or n?')\n",
    "\n",
    "    ##starts the game if they are ready to play\n",
    "    if play_game == 'y':\n",
    "        game_on = True\n",
    "    else:\n",
    "        game_on = False\n",
    "    \n",
    "    #GAME PLAY\n",
    "    while game_on:\n",
    "        #PLAYER 1 TURN\n",
    "        if turn == 'Player 1':\n",
    "            #show board\n",
    "            display_board(the_board)\n",
    "            print('Player 1 turn')\n",
    "            #choose position\n",
    "            position = player_choice(the_board)\n",
    "            #place marker on position\n",
    "            place_marker(the_board,player1,position)\n",
    "            #check if they won\n",
    "            if win_check(the_board,player1):\n",
    "                display_board(the_board)\n",
    "                print('Player 1 has won!')\n",
    "                game_on = False\n",
    "            #check if there is a tie\n",
    "            else:\n",
    "                if full_board_check(the_board):\n",
    "                    display_board(the_board)\n",
    "                    print('Tie Game!')\n",
    "                    game_on = False\n",
    "                else:\n",
    "                    turn = 'Player 2'\n",
    "            #no tie or win = next player's turn\n",
    "        else:\n",
    "        #PLAYER 2 TURN\n",
    "            display_board(the_board)\n",
    "            print('Player 2 turn')\n",
    "            #choose position\n",
    "            position = player_choice(the_board)\n",
    "            #place marker on position\n",
    "            place_marker(the_board,player2,position)\n",
    "            #check if they won\n",
    "            if win_check(the_board,player2):\n",
    "                display_board(the_board)\n",
    "                print('Player 2 has won!')\n",
    "                game_on = False\n",
    "            #check if there is a tie\n",
    "            else:\n",
    "                if full_board_check(the_board):\n",
    "                    display_board(the_board)\n",
    "                    print('Tie Game!')\n",
    "                    game_on = False\n",
    "                else:\n",
    "                    turn = 'Player 1'\n",
    "            #no tie or win = next player's turn\n",
    "    if not replay():\n",
    "        break\n",
    "\n",
    "#BREAK OUT OF WHILE LOOP ON replay()"
   ]
  },
  {
   "cell_type": "code",
   "execution_count": null,
   "id": "5542e7c1-60dd-49ed-9b08-9bed9480fb9b",
   "metadata": {},
   "outputs": [],
   "source": []
  }
 ],
 "metadata": {
  "kernelspec": {
   "display_name": "Python 3 (ipykernel)",
   "language": "python",
   "name": "python3"
  },
  "language_info": {
   "codemirror_mode": {
    "name": "ipython",
    "version": 3
   },
   "file_extension": ".py",
   "mimetype": "text/x-python",
   "name": "python",
   "nbconvert_exporter": "python",
   "pygments_lexer": "ipython3",
   "version": "3.12.4"
  }
 },
 "nbformat": 4,
 "nbformat_minor": 5
}
